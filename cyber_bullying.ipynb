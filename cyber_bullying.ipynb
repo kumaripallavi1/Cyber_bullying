{
 "cells": [
  {
   "cell_type": "markdown",
   "metadata": {},
   "source": [
    "# CNN ON CYBER BULLYING TRAINING ON 012DATA.csv AND VALIDATION WITH dev.csv"
   ]
  },
  {
   "cell_type": "code",
   "execution_count": 1,
   "metadata": {},
   "outputs": [],
   "source": [
    "import warnings"
   ]
  },
  {
   "cell_type": "code",
   "execution_count": 2,
   "metadata": {},
   "outputs": [
    {
     "name": "stderr",
     "output_type": "stream",
     "text": [
      "C:\\ProgramData\\Anaconda3\\lib\\site-packages\\h5py\\__init__.py:36: FutureWarning: Conversion of the second argument of issubdtype from `float` to `np.floating` is deprecated. In future, it will be treated as `np.float64 == np.dtype(float).type`.\n",
      "  from ._conv import register_converters as _register_converters\n",
      "Using TensorFlow backend.\n"
     ]
    }
   ],
   "source": [
    "from keras.preprocessing.text import one_hot\n",
    "#from keras.preprocessing.text import pad_sequences\n",
    "from keras.preprocessing.text import text_to_word_sequence\n",
    "from keras.preprocessing.text import Tokenizer\n",
    "from keras.utils import to_categorical\n",
    "from keras.models import Sequential"
   ]
  },
  {
   "cell_type": "code",
   "execution_count": 3,
   "metadata": {},
   "outputs": [],
   "source": [
    "from keras.layers import Dense,Input,Dropout\n",
    "from keras.models import Model\n",
    "from keras.layers import Flatten\n",
    "from keras.layers.embeddings import Embedding\n",
    "from sklearn.model_selection import cross_val_score\n",
    "from sklearn.model_selection import StratifiedKFold\n",
    "import pandas as pd"
   ]
  },
  {
   "cell_type": "code",
   "execution_count": 4,
   "metadata": {},
   "outputs": [],
   "source": [
    "from keras.utils.vis_utils import plot_model\n",
    "import numpy as np\n",
    "from numpy import asarray\n",
    "from numpy import zeros\n",
    "from keras.utils.vis_utils import plot_model\n",
    "from sklearn import metrics\n",
    "import matplotlib.pyplot as plt"
   ]
  },
  {
   "cell_type": "code",
   "execution_count": 5,
   "metadata": {},
   "outputs": [],
   "source": [
    "from keras import backend as K\n",
    "#K.set_image_data_format('th')\n",
    "from keras.preprocessing import sequence\n",
    "from keras.layers import Conv1D, MaxPooling1D\n",
    "#from laplotter import LossAccPlotter"
   ]
  },
  {
   "cell_type": "code",
   "execution_count": 6,
   "metadata": {},
   "outputs": [],
   "source": [
    "df1 = pd.read_csv('D:\\CNN\\Dataset/012DATA.csv')\n",
    "df2 = pd.read_csv('D:\\CNN\\Dataset/dev.csv')"
   ]
  },
  {
   "cell_type": "code",
   "execution_count": 7,
   "metadata": {},
   "outputs": [],
   "source": [
    "df= df2['label']\n",
    "y_val=df.replace({'NAG': 0, 'CAG': 1, 'OAG': 2})\n",
    "raw_val=df2['comment']\n",
    "raw_train = df1['comment']\n",
    "y_train = df1['label']"
   ]
  },
  {
   "cell_type": "code",
   "execution_count": 8,
   "metadata": {},
   "outputs": [],
   "source": [
    "tk=Tokenizer(filters='!\"#$%&()*+,-./:;<=>?@[\\\\]^_`{|}~\\t\\n',lower=True, split=\" \")\n",
    "tk.fit_on_texts(raw_train)\n",
    "tk.fit_on_texts(raw_val)\n",
    "index=tk.word_index\n",
    "#print(index)"
   ]
  },
  {
   "cell_type": "code",
   "execution_count": 13,
   "metadata": {},
   "outputs": [
    {
     "name": "stdout",
     "output_type": "stream",
     "text": [
      "26800\n"
     ]
    }
   ],
   "source": [
    "vocab_size = len(index)\n",
    "#vocab_size=50\n",
    "print (vocab_size)\n",
    "encoded_docs_train=[one_hot(d,vocab_size) for d in raw_train]\n",
    "encoded_docs_val=[one_hot(d,vocab_size) for d in raw_val]\n"
   ]
  },
  {
   "cell_type": "code",
   "execution_count": 14,
   "metadata": {},
   "outputs": [],
   "source": [
    "from keras.preprocessing.sequence import pad_sequences\n",
    "max_length=100\n",
    "padded_docs_train =pad_sequences(encoded_docs_train, maxlen=max_length, padding='pre')\n",
    "padded_docs_val =pad_sequences(encoded_docs_val, maxlen=max_length, padding='pre')\n",
    "#print (padded_docs)\n"
   ]
  },
  {
   "cell_type": "code",
   "execution_count": 15,
   "metadata": {},
   "outputs": [],
   "source": [
    "x_train = padded_docs_train\n",
    "x_val =  padded_docs_val"
   ]
  },
  {
   "cell_type": "code",
   "execution_count": 20,
   "metadata": {},
   "outputs": [],
   "source": [
    "y_train = to_categorical(y_train)\n",
    "y_val = to_categorical(y_val)"
   ]
  },
  {
   "cell_type": "code",
   "execution_count": 22,
   "metadata": {},
   "outputs": [
    {
     "name": "stdout",
     "output_type": "stream",
     "text": [
      "(11999, 100)\n",
      "(11999, 3)\n",
      "(3001, 100)\n",
      "(3001, 3)\n"
     ]
    }
   ],
   "source": [
    "print(x_train.shape)\n",
    "print(y_train.shape)\n",
    "print(x_val.shape)\n",
    "print(y_val.shape)"
   ]
  },
  {
   "cell_type": "code",
   "execution_count": 23,
   "metadata": {},
   "outputs": [],
   "source": [
    "from prf1 import f1_score,precision,recall  "
   ]
  },
  {
   "cell_type": "code",
   "execution_count": 24,
   "metadata": {},
   "outputs": [],
   "source": [
    "\n",
    "model = Sequential()\n",
    "model.add(Dense(1024, input_shape=(100,)))\n",
    "\n",
    "#model.add(Dense(1024,  activation='relu'))\n",
    "model.add(Dense(512, activation='relu'))\n",
    "model.add(Dense(256, activation='relu'))\n",
    "model.add(Dense(3, activation='softmax'))\n",
    "#model.add(Dense(1))\n",
    "model.compile(optimizer='rmsprop',\n",
    "              loss='categorical_crossentropy',\n",
    "              metrics=['accuracy',f1_score,precision,recall])\n",
    "#data = np.array([x for x in range(0,1000)])\n"
   ]
  },
  {
   "cell_type": "code",
   "execution_count": 25,
   "metadata": {},
   "outputs": [
    {
     "name": "stdout",
     "output_type": "stream",
     "text": [
      "Train on 11999 samples, validate on 3001 samples\n",
      "Epoch 1/25\n",
      "11999/11999 [==============================] - 10s 800us/step - loss: 9.3358 - acc: 0.4208 - f1_score: 0.4208 - precision: 0.4208 - recall: 0.4208 - val_loss: 9.4933 - val_acc: 0.4109 - val_f1_score: 0.4109 - val_precision: 0.4109 - val_recall: 0.4109\n",
      "Epoch 2/25\n",
      "11999/11999 [==============================] - 6s 505us/step - loss: 9.3332 - acc: 0.4210 - f1_score: 0.4210 - precision: 0.4210 - recall: 0.4210 - val_loss: 9.4933 - val_acc: 0.4109 - val_f1_score: 0.4109 - val_precision: 0.4109 - val_recall: 0.4109\n",
      "Epoch 3/25\n",
      "11999/11999 [==============================] - 6s 515us/step - loss: 9.3332 - acc: 0.4210 - f1_score: 0.4210 - precision: 0.4210 - recall: 0.4210 - val_loss: 9.4933 - val_acc: 0.4109 - val_f1_score: 0.4109 - val_precision: 0.4109 - val_recall: 0.4109\n",
      "Epoch 4/25\n",
      "11999/11999 [==============================] - 6s 529us/step - loss: 9.3332 - acc: 0.4210 - f1_score: 0.4210 - precision: 0.4210 - recall: 0.4210 - val_loss: 9.4933 - val_acc: 0.4109 - val_f1_score: 0.4109 - val_precision: 0.4109 - val_recall: 0.4109\n",
      "Epoch 5/25\n",
      "11999/11999 [==============================] - 6s 511us/step - loss: 9.3332 - acc: 0.4210 - f1_score: 0.4210 - precision: 0.4210 - recall: 0.4210 - val_loss: 9.4933 - val_acc: 0.4109 - val_f1_score: 0.4109 - val_precision: 0.4109 - val_recall: 0.4109\n",
      "Epoch 6/25\n",
      "11999/11999 [==============================] - 6s 488us/step - loss: 9.3332 - acc: 0.4210 - f1_score: 0.4210 - precision: 0.4210 - recall: 0.4210 - val_loss: 9.4933 - val_acc: 0.4109 - val_f1_score: 0.4109 - val_precision: 0.4109 - val_recall: 0.4109\n",
      "Epoch 7/25\n",
      "11999/11999 [==============================] - 6s 539us/step - loss: 9.3332 - acc: 0.4210 - f1_score: 0.4210 - precision: 0.4210 - recall: 0.4210 - val_loss: 9.4933 - val_acc: 0.4109 - val_f1_score: 0.4109 - val_precision: 0.4109 - val_recall: 0.4109\n",
      "Epoch 8/25\n",
      "11999/11999 [==============================] - 7s 557us/step - loss: 9.3332 - acc: 0.4210 - f1_score: 0.4210 - precision: 0.4210 - recall: 0.4210 - val_loss: 9.4933 - val_acc: 0.4109 - val_f1_score: 0.4109 - val_precision: 0.4109 - val_recall: 0.4109\n",
      "Epoch 9/25\n",
      "11999/11999 [==============================] - 7s 558us/step - loss: 9.3332 - acc: 0.4210 - f1_score: 0.4210 - precision: 0.4210 - recall: 0.4210 - val_loss: 9.4933 - val_acc: 0.4109 - val_f1_score: 0.4109 - val_precision: 0.4109 - val_recall: 0.4109\n",
      "Epoch 10/25\n",
      "11999/11999 [==============================] - 7s 563us/step - loss: 9.3332 - acc: 0.4210 - f1_score: 0.4210 - precision: 0.4210 - recall: 0.4210 - val_loss: 9.4933 - val_acc: 0.4109 - val_f1_score: 0.4109 - val_precision: 0.4109 - val_recall: 0.4109\n",
      "Epoch 11/25\n",
      "11999/11999 [==============================] - 7s 578us/step - loss: 9.3332 - acc: 0.4210 - f1_score: 0.4210 - precision: 0.4210 - recall: 0.4210 - val_loss: 9.4933 - val_acc: 0.4109 - val_f1_score: 0.4109 - val_precision: 0.4109 - val_recall: 0.4109\n",
      "Epoch 12/25\n",
      "11999/11999 [==============================] - 7s 578us/step - loss: 9.3332 - acc: 0.4210 - f1_score: 0.4210 - precision: 0.4210 - recall: 0.4210 - val_loss: 9.4933 - val_acc: 0.4109 - val_f1_score: 0.4109 - val_precision: 0.4109 - val_recall: 0.4109\n",
      "Epoch 13/25\n",
      "11999/11999 [==============================] - 8s 680us/step - loss: 9.3332 - acc: 0.4210 - f1_score: 0.4210 - precision: 0.4210 - recall: 0.4210 - val_loss: 9.4933 - val_acc: 0.4109 - val_f1_score: 0.4109 - val_precision: 0.4109 - val_recall: 0.4109\n",
      "Epoch 14/25\n",
      "11999/11999 [==============================] - 7s 543us/step - loss: 9.3332 - acc: 0.4210 - f1_score: 0.4210 - precision: 0.4210 - recall: 0.4210 - val_loss: 9.4933 - val_acc: 0.4109 - val_f1_score: 0.4109 - val_precision: 0.4109 - val_recall: 0.4109\n",
      "Epoch 15/25\n",
      "11999/11999 [==============================] - 6s 495us/step - loss: 9.3332 - acc: 0.4210 - f1_score: 0.4210 - precision: 0.4210 - recall: 0.4210 - val_loss: 9.4933 - val_acc: 0.4109 - val_f1_score: 0.4109 - val_precision: 0.4109 - val_recall: 0.4109\n",
      "Epoch 16/25\n",
      "11999/11999 [==============================] - 6s 478us/step - loss: 9.3332 - acc: 0.4210 - f1_score: 0.4210 - precision: 0.4210 - recall: 0.4210 - val_loss: 9.4933 - val_acc: 0.4109 - val_f1_score: 0.4109 - val_precision: 0.4109 - val_recall: 0.4109\n",
      "Epoch 17/25\n",
      "11999/11999 [==============================] - 6s 472us/step - loss: 9.3332 - acc: 0.4210 - f1_score: 0.4210 - precision: 0.4210 - recall: 0.4210 - val_loss: 9.4933 - val_acc: 0.4109 - val_f1_score: 0.4109 - val_precision: 0.4109 - val_recall: 0.4109\n",
      "Epoch 18/25\n",
      "11999/11999 [==============================] - 5s 449us/step - loss: 9.3332 - acc: 0.4210 - f1_score: 0.4210 - precision: 0.4210 - recall: 0.4210 - val_loss: 9.4933 - val_acc: 0.4109 - val_f1_score: 0.4109 - val_precision: 0.4109 - val_recall: 0.4109\n",
      "Epoch 19/25\n",
      "11999/11999 [==============================] - 5s 450us/step - loss: 9.3332 - acc: 0.4210 - f1_score: 0.4210 - precision: 0.4210 - recall: 0.4210 - val_loss: 9.4933 - val_acc: 0.4109 - val_f1_score: 0.4109 - val_precision: 0.4109 - val_recall: 0.4109\n",
      "Epoch 20/25\n",
      "11999/11999 [==============================] - 6s 492us/step - loss: 9.3332 - acc: 0.4210 - f1_score: 0.4210 - precision: 0.4210 - recall: 0.4210 - val_loss: 9.4933 - val_acc: 0.4109 - val_f1_score: 0.4109 - val_precision: 0.4109 - val_recall: 0.4109\n",
      "Epoch 21/25\n",
      "11999/11999 [==============================] - 6s 498us/step - loss: 9.3332 - acc: 0.4210 - f1_score: 0.4210 - precision: 0.4210 - recall: 0.4210 - val_loss: 9.4933 - val_acc: 0.4109 - val_f1_score: 0.4109 - val_precision: 0.4109 - val_recall: 0.4109\n",
      "Epoch 22/25\n",
      "11999/11999 [==============================] - 6s 517us/step - loss: 9.3332 - acc: 0.4210 - f1_score: 0.4210 - precision: 0.4210 - recall: 0.4210 - val_loss: 9.4933 - val_acc: 0.4109 - val_f1_score: 0.4109 - val_precision: 0.4109 - val_recall: 0.4109\n",
      "Epoch 23/25\n",
      "11999/11999 [==============================] - 5s 457us/step - loss: 9.3332 - acc: 0.4210 - f1_score: 0.4210 - precision: 0.4210 - recall: 0.4210 - val_loss: 9.4933 - val_acc: 0.4109 - val_f1_score: 0.4109 - val_precision: 0.4109 - val_recall: 0.4109\n",
      "Epoch 24/25\n",
      "11999/11999 [==============================] - 6s 514us/step - loss: 9.3332 - acc: 0.4210 - f1_score: 0.4210 - precision: 0.4210 - recall: 0.4210 - val_loss: 9.4933 - val_acc: 0.4109 - val_f1_score: 0.4109 - val_precision: 0.4109 - val_recall: 0.4109\n",
      "Epoch 25/25\n",
      "11999/11999 [==============================] - 6s 509us/step - loss: 9.3332 - acc: 0.4210 - f1_score: 0.4210 - precision: 0.4210 - recall: 0.4210 - val_loss: 9.4933 - val_acc: 0.4109 - val_f1_score: 0.4109 - val_precision: 0.4109 - val_recall: 0.4109\n"
     ]
    }
   ],
   "source": [
    " history=model.fit(x_train, y_train,\n",
    "          batch_size=50,    \n",
    "          epochs=25,\n",
    "          verbose=1,\n",
    "          validation_data=(x_val, y_val))\n"
   ]
  },
  {
   "cell_type": "code",
   "execution_count": 27,
   "metadata": {},
   "outputs": [
    {
     "data": {
      "image/png": "[encoded data removed]",
      "text/plain": [
       "<Figure size 432x288 with 1 Axes>"
      ]
     },
     "metadata": {},
     "output_type": "display_data"
    },
    {
     "data": {
      "image/png": "[encoded data removed]",
      "text/plain": [
       "<Figure size 432x288 with 1 Axes>"
      ]
     },
     "metadata": {},
     "output_type": "display_data"
    },
    {
     "data": {
      "image/png": "[encoded data removed]",
      "text/plain": [
       "<Figure size 432x288 with 1 Axes>"
      ]
     },
     "metadata": {},
     "output_type": "display_data"
    },
    {
     "data": {
      "image/png": "[encoded data removed]",
      "text/plain": [
       "<Figure size 432x288 with 1 Axes>"
      ]
     },
     "metadata": {},
     "output_type": "display_data"
    }
   ],
   "source": [
    "from matplotlib import pyplot\n",
    "pyplot.plot(history.history['loss'], color='b')\n",
    "pyplot.plot(history.history['val_loss'], color='r')\n",
    "pyplot.ylabel('loss')\n",
    "pyplot.xlabel('epoch')\n",
    "plt.legend(['train', 'val'], loc='lower right')\n",
    "pyplot.show()\n",
    "pyplot.plot(history.history['acc'], color='b')\n",
    "pyplot.plot(history.history['val_acc'], color='r')\n",
    "pyplot.ylabel('accuracy')\n",
    "pyplot.xlabel('epoch')\n",
    "plt.legend(['train', 'val'], loc='lower right')\n",
    "pyplot.show()\n",
    "pyplot.plot(history.history['precision'], color='b')\n",
    "pyplot.plot(history.history['val_precision'], color='r')\n",
    "pyplot.ylabel('precision')\n",
    "pyplot.xlabel('epoch')\n",
    "plt.legend(['train', 'val'], loc='lower right')\n",
    "pyplot.show()\n",
    "pyplot.plot(history.history['f1_score'], color='b')\n",
    "pyplot.plot(history.history['val_f1_score'], color='r')\n",
    "pyplot.ylabel('f1_score')\n",
    "pyplot.xlabel('epoch')\n",
    "plt.legend(['train', 'val'], loc='lower right')\n",
    "pyplot.show()\n"
   ]
  },
  {
   "cell_type": "code",
   "execution_count": null,
   "metadata": {},
   "outputs": [],
   "source": []
  },
  {
   "cell_type": "code",
   "execution_count": null,
   "metadata": {},
   "outputs": [],
   "source": []
  },
  {
   "cell_type": "code",
   "execution_count": null,
   "metadata": {},
   "outputs": [],
   "source": []
  },
  {
   "cell_type": "code",
   "execution_count": null,
   "metadata": {},
   "outputs": [],
   "source": []
  },
  {
   "cell_type": "code",
   "execution_count": null,
   "metadata": {},
   "outputs": [],
   "source": []
  },
  {
   "cell_type": "code",
   "execution_count": null,
   "metadata": {},
   "outputs": [],
   "source": []
  },
  {
   "cell_type": "code",
   "execution_count": null,
   "metadata": {},
   "outputs": [],
   "source": []
  },
  {
   "cell_type": "code",
   "execution_count": null,
   "metadata": {},
   "outputs": [],
   "source": []
  },
  {
   "cell_type": "code",
   "execution_count": null,
   "metadata": {},
   "outputs": [],
   "source": []
  },
  {
   "cell_type": "code",
   "execution_count": null,
   "metadata": {},
   "outputs": [],
   "source": []
  },
  {
   "cell_type": "code",
   "execution_count": null,
   "metadata": {},
   "outputs": [],
   "source": []
  },
  {
   "cell_type": "code",
   "execution_count": null,
   "metadata": {},
   "outputs": [],
   "source": []
  },
  {
   "cell_type": "code",
   "execution_count": null,
   "metadata": {},
   "outputs": [],
   "source": []
  },
  {
   "cell_type": "code",
   "execution_count": null,
   "metadata": {},
   "outputs": [],
   "source": []
  }
 ],
 "metadata": {
  "kernelspec": {
   "display_name": "Python 3",
   "language": "python",
   "name": "python3"
  },
  "language_info": {
   "codemirror_mode": {
    "name": "ipython",
    "version": 3
   },
   "file_extension": ".py",
   "mimetype": "text/x-python",
   "name": "python",
   "nbconvert_exporter": "python",
   "pygments_lexer": "ipython3",
   "version": "3.6.5"
  }
 },
 "nbformat": 4,
 "nbformat_minor": 2
}
